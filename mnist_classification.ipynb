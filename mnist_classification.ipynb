{
  "nbformat": 4,
  "nbformat_minor": 0,
  "metadata": {
    "colab": {
      "name": "mnist-classification.ipynb",
      "provenance": [],
      "collapsed_sections": [],
      "authorship_tag": "ABX9TyNqdpem51DnIykqOdOjwmVU",
      "include_colab_link": true
    },
    "kernelspec": {
      "name": "python3",
      "display_name": "Python 3"
    },
    "language_info": {
      "name": "python"
    }
  },
  "cells": [
    {
      "cell_type": "markdown",
      "metadata": {
        "id": "view-in-github",
        "colab_type": "text"
      },
      "source": [
        "<a href=\"https://colab.research.google.com/github/enc0des/Tensorflow-Zero-to-Hero/blob/main/mnist_classification.ipynb\" target=\"_parent\"><img src=\"https://colab.research.google.com/assets/colab-badge.svg\" alt=\"Open In Colab\"/></a>"
      ]
    },
    {
      "cell_type": "markdown",
      "metadata": {
        "id": "YzAqbYlTaAbs"
      },
      "source": [
        "# MNIST Classification.\n"
      ]
    },
    {
      "cell_type": "markdown",
      "metadata": {
        "id": "UsXAxFhrUm9P"
      },
      "source": [
        "## Import Data"
      ]
    },
    {
      "cell_type": "code",
      "metadata": {
        "id": "-jM9NPThaNdw",
        "colab": {
          "base_uri": "https://localhost:8080/"
        },
        "outputId": "ce26becd-68b0-40f6-db32-8fb53e15f664"
      },
      "source": [
        "from keras.datasets import mnist\n",
        "(train_images, train_labels), (test_images, test_labels) = mnist.load_data()"
      ],
      "execution_count": 1,
      "outputs": [
        {
          "output_type": "stream",
          "text": [
            "Downloading data from https://storage.googleapis.com/tensorflow/tf-keras-datasets/mnist.npz\n",
            "11493376/11490434 [==============================] - 0s 0us/step\n",
            "11501568/11490434 [==============================] - 0s 0us/step\n"
          ],
          "name": "stdout"
        }
      ]
    },
    {
      "cell_type": "markdown",
      "metadata": {
        "id": "5XkXvVF9UjzH"
      },
      "source": [
        "## Training Set"
      ]
    },
    {
      "cell_type": "code",
      "metadata": {
        "id": "q3Q7GsUYbP4P",
        "colab": {
          "base_uri": "https://localhost:8080/"
        },
        "outputId": "1e9acb91-1f31-47f0-abd5-cf1e6141bd50"
      },
      "source": [
        "train_images.shape"
      ],
      "execution_count": 2,
      "outputs": [
        {
          "output_type": "execute_result",
          "data": {
            "text/plain": [
              "(60000, 28, 28)"
            ]
          },
          "metadata": {
            "tags": []
          },
          "execution_count": 2
        }
      ]
    },
    {
      "cell_type": "code",
      "metadata": {
        "colab": {
          "base_uri": "https://localhost:8080/"
        },
        "id": "sY4UEzfqULpn",
        "outputId": "0377be2e-8ad0-448b-9d87-761f0e313721"
      },
      "source": [
        "train_images"
      ],
      "execution_count": 3,
      "outputs": [
        {
          "output_type": "execute_result",
          "data": {
            "text/plain": [
              "array([[[0, 0, 0, ..., 0, 0, 0],\n",
              "        [0, 0, 0, ..., 0, 0, 0],\n",
              "        [0, 0, 0, ..., 0, 0, 0],\n",
              "        ...,\n",
              "        [0, 0, 0, ..., 0, 0, 0],\n",
              "        [0, 0, 0, ..., 0, 0, 0],\n",
              "        [0, 0, 0, ..., 0, 0, 0]],\n",
              "\n",
              "       [[0, 0, 0, ..., 0, 0, 0],\n",
              "        [0, 0, 0, ..., 0, 0, 0],\n",
              "        [0, 0, 0, ..., 0, 0, 0],\n",
              "        ...,\n",
              "        [0, 0, 0, ..., 0, 0, 0],\n",
              "        [0, 0, 0, ..., 0, 0, 0],\n",
              "        [0, 0, 0, ..., 0, 0, 0]],\n",
              "\n",
              "       [[0, 0, 0, ..., 0, 0, 0],\n",
              "        [0, 0, 0, ..., 0, 0, 0],\n",
              "        [0, 0, 0, ..., 0, 0, 0],\n",
              "        ...,\n",
              "        [0, 0, 0, ..., 0, 0, 0],\n",
              "        [0, 0, 0, ..., 0, 0, 0],\n",
              "        [0, 0, 0, ..., 0, 0, 0]],\n",
              "\n",
              "       ...,\n",
              "\n",
              "       [[0, 0, 0, ..., 0, 0, 0],\n",
              "        [0, 0, 0, ..., 0, 0, 0],\n",
              "        [0, 0, 0, ..., 0, 0, 0],\n",
              "        ...,\n",
              "        [0, 0, 0, ..., 0, 0, 0],\n",
              "        [0, 0, 0, ..., 0, 0, 0],\n",
              "        [0, 0, 0, ..., 0, 0, 0]],\n",
              "\n",
              "       [[0, 0, 0, ..., 0, 0, 0],\n",
              "        [0, 0, 0, ..., 0, 0, 0],\n",
              "        [0, 0, 0, ..., 0, 0, 0],\n",
              "        ...,\n",
              "        [0, 0, 0, ..., 0, 0, 0],\n",
              "        [0, 0, 0, ..., 0, 0, 0],\n",
              "        [0, 0, 0, ..., 0, 0, 0]],\n",
              "\n",
              "       [[0, 0, 0, ..., 0, 0, 0],\n",
              "        [0, 0, 0, ..., 0, 0, 0],\n",
              "        [0, 0, 0, ..., 0, 0, 0],\n",
              "        ...,\n",
              "        [0, 0, 0, ..., 0, 0, 0],\n",
              "        [0, 0, 0, ..., 0, 0, 0],\n",
              "        [0, 0, 0, ..., 0, 0, 0]]], dtype=uint8)"
            ]
          },
          "metadata": {
            "tags": []
          },
          "execution_count": 3
        }
      ]
    },
    {
      "cell_type": "code",
      "metadata": {
        "colab": {
          "base_uri": "https://localhost:8080/"
        },
        "id": "wCV2_s56UtaS",
        "outputId": "e36eaa86-4b0b-43f1-ca49-38d9e3116138"
      },
      "source": [
        "train_labels.shape"
      ],
      "execution_count": 4,
      "outputs": [
        {
          "output_type": "execute_result",
          "data": {
            "text/plain": [
              "(60000,)"
            ]
          },
          "metadata": {
            "tags": []
          },
          "execution_count": 4
        }
      ]
    },
    {
      "cell_type": "code",
      "metadata": {
        "colab": {
          "base_uri": "https://localhost:8080/"
        },
        "id": "dmZxglwbUzE3",
        "outputId": "36fa9417-d7e6-4a74-a27d-6507f10b638b"
      },
      "source": [
        "train_labels"
      ],
      "execution_count": 5,
      "outputs": [
        {
          "output_type": "execute_result",
          "data": {
            "text/plain": [
              "array([5, 0, 4, ..., 5, 6, 8], dtype=uint8)"
            ]
          },
          "metadata": {
            "tags": []
          },
          "execution_count": 5
        }
      ]
    },
    {
      "cell_type": "code",
      "metadata": {
        "colab": {
          "base_uri": "https://localhost:8080/",
          "height": 298
        },
        "id": "weCOHOFfdNvx",
        "outputId": "a7996cdb-c97e-4e3d-85d2-97118df5720e"
      },
      "source": [
        "digit = train_images[0]\n",
        "import matplotlib.pyplot as plt\n",
        "plt.imshow(digit, cmap=plt.cm.binary)\n",
        "plt.show()\n",
        "\n",
        "print(\"Corresponding label : \")\n",
        "print(train_labels[0])"
      ],
      "execution_count": 6,
      "outputs": [
        {
          "output_type": "display_data",
          "data": {
            "image/png": "[encoded data removed]",
            "text/plain": [
              "<Figure size 432x288 with 1 Axes>"
            ]
          },
          "metadata": {
            "tags": [],
            "needs_background": "light"
          }
        },
        {
          "output_type": "stream",
          "text": [
            "Corresponding label : \n",
            "5\n"
          ],
          "name": "stdout"
        }
      ]
    },
    {
      "cell_type": "markdown",
      "metadata": {
        "id": "2m8MYscXUSon"
      },
      "source": [
        "## Test Set"
      ]
    },
    {
      "cell_type": "code",
      "metadata": {
        "colab": {
          "base_uri": "https://localhost:8080/"
        },
        "id": "GcaxD5cRUirm",
        "outputId": "eb390a1d-8890-4f3c-afcb-8de2b2f8b525"
      },
      "source": [
        "test_images.shape"
      ],
      "execution_count": 7,
      "outputs": [
        {
          "output_type": "execute_result",
          "data": {
            "text/plain": [
              "(10000, 28, 28)"
            ]
          },
          "metadata": {
            "tags": []
          },
          "execution_count": 7
        }
      ]
    },
    {
      "cell_type": "code",
      "metadata": {
        "colab": {
          "base_uri": "https://localhost:8080/"
        },
        "id": "wT9crtKeVvXf",
        "outputId": "e40ce539-ada1-420f-bfec-5f380aa8d0f3"
      },
      "source": [
        "test_images"
      ],
      "execution_count": 8,
      "outputs": [
        {
          "output_type": "execute_result",
          "data": {
            "text/plain": [
              "array([[[0, 0, 0, ..., 0, 0, 0],\n",
              "        [0, 0, 0, ..., 0, 0, 0],\n",
              "        [0, 0, 0, ..., 0, 0, 0],\n",
              "        ...,\n",
              "        [0, 0, 0, ..., 0, 0, 0],\n",
              "        [0, 0, 0, ..., 0, 0, 0],\n",
              "        [0, 0, 0, ..., 0, 0, 0]],\n",
              "\n",
              "       [[0, 0, 0, ..., 0, 0, 0],\n",
              "        [0, 0, 0, ..., 0, 0, 0],\n",
              "        [0, 0, 0, ..., 0, 0, 0],\n",
              "        ...,\n",
              "        [0, 0, 0, ..., 0, 0, 0],\n",
              "        [0, 0, 0, ..., 0, 0, 0],\n",
              "        [0, 0, 0, ..., 0, 0, 0]],\n",
              "\n",
              "       [[0, 0, 0, ..., 0, 0, 0],\n",
              "        [0, 0, 0, ..., 0, 0, 0],\n",
              "        [0, 0, 0, ..., 0, 0, 0],\n",
              "        ...,\n",
              "        [0, 0, 0, ..., 0, 0, 0],\n",
              "        [0, 0, 0, ..., 0, 0, 0],\n",
              "        [0, 0, 0, ..., 0, 0, 0]],\n",
              "\n",
              "       ...,\n",
              "\n",
              "       [[0, 0, 0, ..., 0, 0, 0],\n",
              "        [0, 0, 0, ..., 0, 0, 0],\n",
              "        [0, 0, 0, ..., 0, 0, 0],\n",
              "        ...,\n",
              "        [0, 0, 0, ..., 0, 0, 0],\n",
              "        [0, 0, 0, ..., 0, 0, 0],\n",
              "        [0, 0, 0, ..., 0, 0, 0]],\n",
              "\n",
              "       [[0, 0, 0, ..., 0, 0, 0],\n",
              "        [0, 0, 0, ..., 0, 0, 0],\n",
              "        [0, 0, 0, ..., 0, 0, 0],\n",
              "        ...,\n",
              "        [0, 0, 0, ..., 0, 0, 0],\n",
              "        [0, 0, 0, ..., 0, 0, 0],\n",
              "        [0, 0, 0, ..., 0, 0, 0]],\n",
              "\n",
              "       [[0, 0, 0, ..., 0, 0, 0],\n",
              "        [0, 0, 0, ..., 0, 0, 0],\n",
              "        [0, 0, 0, ..., 0, 0, 0],\n",
              "        ...,\n",
              "        [0, 0, 0, ..., 0, 0, 0],\n",
              "        [0, 0, 0, ..., 0, 0, 0],\n",
              "        [0, 0, 0, ..., 0, 0, 0]]], dtype=uint8)"
            ]
          },
          "metadata": {
            "tags": []
          },
          "execution_count": 8
        }
      ]
    },
    {
      "cell_type": "code",
      "metadata": {
        "colab": {
          "base_uri": "https://localhost:8080/"
        },
        "id": "Hi7STjYTVwNP",
        "outputId": "1adfbc9d-b761-454e-d449-061b10413024"
      },
      "source": [
        "test_labels.shape"
      ],
      "execution_count": 9,
      "outputs": [
        {
          "output_type": "execute_result",
          "data": {
            "text/plain": [
              "(10000,)"
            ]
          },
          "metadata": {
            "tags": []
          },
          "execution_count": 9
        }
      ]
    },
    {
      "cell_type": "code",
      "metadata": {
        "colab": {
          "base_uri": "https://localhost:8080/"
        },
        "id": "KIzaCw-JVz3n",
        "outputId": "75ac8237-db3b-4505-e099-5ccbf18cadaf"
      },
      "source": [
        "test_labels"
      ],
      "execution_count": 10,
      "outputs": [
        {
          "output_type": "execute_result",
          "data": {
            "text/plain": [
              "array([7, 2, 1, ..., 4, 5, 6], dtype=uint8)"
            ]
          },
          "metadata": {
            "tags": []
          },
          "execution_count": 10
        }
      ]
    },
    {
      "cell_type": "code",
      "metadata": {
        "colab": {
          "base_uri": "https://localhost:8080/",
          "height": 298
        },
        "id": "S9SMQvFbdFoy",
        "outputId": "ed5e3e01-7778-4ff0-f399-95e881b4af8c"
      },
      "source": [
        "digit = test_images[0]\n",
        "import matplotlib.pyplot as plt\n",
        "plt.imshow(digit, cmap=plt.cm.binary)\n",
        "plt.show()\n",
        "\n",
        "print(\"Corresponding label : \")\n",
        "print(test_labels[0])"
      ],
      "execution_count": 11,
      "outputs": [
        {
          "output_type": "display_data",
          "data": {
            "image/png": "[encoded data removed]",
            "text/plain": [
              "<Figure size 432x288 with 1 Axes>"
            ]
          },
          "metadata": {
            "tags": [],
            "needs_background": "light"
          }
        },
        {
          "output_type": "stream",
          "text": [
            "Corresponding label : \n",
            "7\n"
          ],
          "name": "stdout"
        }
      ]
    },
    {
      "cell_type": "markdown",
      "metadata": {
        "id": "1kiQaMo6V9Qu"
      },
      "source": [
        "## The network architecture"
      ]
    },
    {
      "cell_type": "code",
      "metadata": {
        "id": "gjNKxaSLWLCC"
      },
      "source": [
        "from tensorflow.keras import models\n",
        "from tensorflow.keras import layers\n",
        "\n",
        "model = models.Sequential([\n",
        "\n",
        "    layers.Dense(512, activation= 'relu'),\n",
        "    layers.Dense(10,  activation= 'softmax')\n",
        "])"
      ],
      "execution_count": 12,
      "outputs": []
    },
    {
      "cell_type": "markdown",
      "metadata": {
        "id": "SiwqklJrXo-o"
      },
      "source": [
        "## Compilation"
      ]
    },
    {
      "cell_type": "markdown",
      "metadata": {
        "id": "y1cNTa37ZXi4"
      },
      "source": [
        " - An **optimizer** — The mechanism through which the model will update itself based on the\n",
        "training data it sees, so as to improve its performance.\n",
        " - A **loss** function — How the model will be able to measure its performance on the training\n",
        "data, and thus how it will be able to steer itself in the right direction.\n",
        " - **Metrics** to monitor during training and testing — Here, we’ll only care about accuracy\n",
        "(the fraction of the images that were correctly classified)"
      ]
    },
    {
      "cell_type": "code",
      "metadata": {
        "id": "xTtB9vBXW9kg"
      },
      "source": [
        "model.compile(          \n",
        "              optimizer='rmsprop', #    >>  Default.\n",
        "              loss=    'sparse_categorical_crossentropy',\n",
        "              metrics= ['accuracy']\n",
        ")"
      ],
      "execution_count": 13,
      "outputs": []
    },
    {
      "cell_type": "markdown",
      "metadata": {
        "id": "YpgTJ0X5XxdA"
      },
      "source": [
        "## Preparing the image data "
      ]
    },
    {
      "cell_type": "code",
      "metadata": {
        "id": "TniXYMN4X2KQ"
      },
      "source": [
        "train_images = train_images.reshape((60000, 28 * 28))\n",
        "train_images = train_images.astype('float32') / 255\n",
        "\n",
        "test_images = test_images.reshape((10000, 28 * 28))\n",
        "test_images = test_images.astype('float32') / 255"
      ],
      "execution_count": 14,
      "outputs": []
    },
    {
      "cell_type": "code",
      "metadata": {
        "colab": {
          "base_uri": "https://localhost:8080/"
        },
        "id": "MhRTjY_EX_jI",
        "outputId": "e888ac3a-3f4e-4038-9091-68c37ccfcb14"
      },
      "source": [
        "import numpy\n",
        "help(numpy.ndarray.astype)"
      ],
      "execution_count": 15,
      "outputs": [
        {
          "output_type": "stream",
          "text": [
            "Help on method_descriptor:\n",
            "\n",
            "astype(...)\n",
            "    a.astype(dtype, order='K', casting='unsafe', subok=True, copy=True)\n",
            "    \n",
            "    Copy of the array, cast to a specified type.\n",
            "    \n",
            "    Parameters\n",
            "    ----------\n",
            "    dtype : str or dtype\n",
            "        Typecode or data-type to which the array is cast.\n",
            "    order : {'C', 'F', 'A', 'K'}, optional\n",
            "        Controls the memory layout order of the result.\n",
            "        'C' means C order, 'F' means Fortran order, 'A'\n",
            "        means 'F' order if all the arrays are Fortran contiguous,\n",
            "        'C' order otherwise, and 'K' means as close to the\n",
            "        order the array elements appear in memory as possible.\n",
            "        Default is 'K'.\n",
            "    casting : {'no', 'equiv', 'safe', 'same_kind', 'unsafe'}, optional\n",
            "        Controls what kind of data casting may occur. Defaults to 'unsafe'\n",
            "        for backwards compatibility.\n",
            "    \n",
            "          * 'no' means the data types should not be cast at all.\n",
            "          * 'equiv' means only byte-order changes are allowed.\n",
            "          * 'safe' means only casts which can preserve values are allowed.\n",
            "          * 'same_kind' means only safe casts or casts within a kind,\n",
            "            like float64 to float32, are allowed.\n",
            "          * 'unsafe' means any data conversions may be done.\n",
            "    subok : bool, optional\n",
            "        If True, then sub-classes will be passed-through (default), otherwise\n",
            "        the returned array will be forced to be a base-class array.\n",
            "    copy : bool, optional\n",
            "        By default, astype always returns a newly allocated array. If this\n",
            "        is set to false, and the `dtype`, `order`, and `subok`\n",
            "        requirements are satisfied, the input array is returned instead\n",
            "        of a copy.\n",
            "    \n",
            "    Returns\n",
            "    -------\n",
            "    arr_t : ndarray\n",
            "        Unless `copy` is False and the other conditions for returning the input\n",
            "        array are satisfied (see description for `copy` input parameter), `arr_t`\n",
            "        is a new array of the same shape as the input array, with dtype, order\n",
            "        given by `dtype`, `order`.\n",
            "    \n",
            "    Notes\n",
            "    -----\n",
            "    .. versionchanged:: 1.17.0\n",
            "       Casting between a simple data type and a structured one is possible only\n",
            "       for \"unsafe\" casting.  Casting to multiple fields is allowed, but\n",
            "       casting from multiple fields is not.\n",
            "    \n",
            "    .. versionchanged:: 1.9.0\n",
            "       Casting from numeric to string types in 'safe' casting mode requires\n",
            "       that the string dtype length is long enough to store the max\n",
            "       integer/float value converted.\n",
            "    \n",
            "    Raises\n",
            "    ------\n",
            "    ComplexWarning\n",
            "        When casting from complex to float or int. To avoid this,\n",
            "        one should use ``a.real.astype(t)``.\n",
            "    \n",
            "    Examples\n",
            "    --------\n",
            "    >>> x = np.array([1, 2, 2.5])\n",
            "    >>> x\n",
            "    array([1. ,  2. ,  2.5])\n",
            "    \n",
            "    >>> x.astype(int)\n",
            "    array([1, 2, 2])\n",
            "\n"
          ],
          "name": "stdout"
        }
      ]
    },
    {
      "cell_type": "code",
      "metadata": {
        "colab": {
          "base_uri": "https://localhost:8080/"
        },
        "id": "_Au9nbIcYDtA",
        "outputId": "ce9eb41a-1ef5-4748-b8ad-4eebbd431f46"
      },
      "source": [
        "train_images.shape"
      ],
      "execution_count": 16,
      "outputs": [
        {
          "output_type": "execute_result",
          "data": {
            "text/plain": [
              "(60000, 784)"
            ]
          },
          "metadata": {
            "tags": []
          },
          "execution_count": 16
        }
      ]
    },
    {
      "cell_type": "markdown",
      "metadata": {
        "id": "aegaTnfJYWmx"
      },
      "source": [
        "## Model Fitting"
      ]
    },
    {
      "cell_type": "code",
      "metadata": {
        "colab": {
          "base_uri": "https://localhost:8080/"
        },
        "id": "snWMEmXWYoj4",
        "outputId": "93869a9a-e457-421c-e226-1c79fd1baab7"
      },
      "source": [
        "model.fit(\n",
        "    train_images,\n",
        "    train_labels,\n",
        "    epochs= 5,\n",
        "    batch_size= 128\n",
        ")"
      ],
      "execution_count": 17,
      "outputs": [
        {
          "output_type": "stream",
          "text": [
            "Epoch 1/5\n",
            "469/469 [==============================] - 10s 17ms/step - loss: 0.2584 - accuracy: 0.9243\n",
            "Epoch 2/5\n",
            "469/469 [==============================] - 8s 17ms/step - loss: 0.1036 - accuracy: 0.9696\n",
            "Epoch 3/5\n",
            "469/469 [==============================] - 6s 13ms/step - loss: 0.0688 - accuracy: 0.9794\n",
            "Epoch 4/5\n",
            "469/469 [==============================] - 4s 9ms/step - loss: 0.0498 - accuracy: 0.9851\n",
            "Epoch 5/5\n",
            "469/469 [==============================] - 4s 9ms/step - loss: 0.0382 - accuracy: 0.9885\n"
          ],
          "name": "stdout"
        },
        {
          "output_type": "execute_result",
          "data": {
            "text/plain": [
              "<tensorflow.python.keras.callbacks.History at 0x7fcc35ed7750>"
            ]
          },
          "metadata": {
            "tags": []
          },
          "execution_count": 17
        }
      ]
    },
    {
      "cell_type": "markdown",
      "metadata": {
        "id": "HiDX3AHmY7do"
      },
      "source": [
        "## Predictions"
      ]
    },
    {
      "cell_type": "code",
      "metadata": {
        "id": "OddMj8uqZ29o",
        "colab": {
          "base_uri": "https://localhost:8080/"
        },
        "outputId": "49fc7b35-f855-4821-9668-4a3c37e7f18e"
      },
      "source": [
        "test_digits = test_images[0:10]\n",
        "\n",
        "predictions = model.predict( test_digits )\n",
        "\n",
        "print(predictions.shape,'\\n')\n"
      ],
      "execution_count": 18,
      "outputs": [
        {
          "output_type": "stream",
          "text": [
            "(10, 10) \n",
            "\n"
          ],
          "name": "stdout"
        }
      ]
    },
    {
      "cell_type": "code",
      "metadata": {
        "colab": {
          "base_uri": "https://localhost:8080/"
        },
        "id": "a0mkDPJbaXXJ",
        "outputId": "c41d897b-bf80-4949-e907-3d0e5f4015f3"
      },
      "source": [
        "predictions[0]"
      ],
      "execution_count": 19,
      "outputs": [
        {
          "output_type": "execute_result",
          "data": {
            "text/plain": [
              "array([9.6166175e-10, 1.4197917e-09, 1.9883082e-07, 2.0943130e-06,\n",
              "       1.0870176e-12, 6.6301844e-09, 1.0457525e-14, 9.9999750e-01,\n",
              "       6.5391563e-09, 1.3409399e-07], dtype=float32)"
            ]
          },
          "metadata": {
            "tags": []
          },
          "execution_count": 19
        }
      ]
    },
    {
      "cell_type": "code",
      "metadata": {
        "colab": {
          "base_uri": "https://localhost:8080/"
        },
        "id": "WtmChXdUbHbh",
        "outputId": "0a54effa-52ed-4fa1-b57d-184816262d31"
      },
      "source": [
        "predictions[0].argmax()"
      ],
      "execution_count": 20,
      "outputs": [
        {
          "output_type": "execute_result",
          "data": {
            "text/plain": [
              "7"
            ]
          },
          "metadata": {
            "tags": []
          },
          "execution_count": 20
        }
      ]
    },
    {
      "cell_type": "code",
      "metadata": {
        "colab": {
          "base_uri": "https://localhost:8080/"
        },
        "id": "3VoLo-CcbMhh",
        "outputId": "d7757d1f-ddcb-47bb-d3cf-afd27dd972e8"
      },
      "source": [
        "predictions[0][7]"
      ],
      "execution_count": 21,
      "outputs": [
        {
          "output_type": "execute_result",
          "data": {
            "text/plain": [
              "0.9999975"
            ]
          },
          "metadata": {
            "tags": []
          },
          "execution_count": 21
        }
      ]
    },
    {
      "cell_type": "code",
      "metadata": {
        "colab": {
          "base_uri": "https://localhost:8080/"
        },
        "id": "lyo3tUFdbXzp",
        "outputId": "6e1e48d6-b833-4db7-a0fd-57abe217e09c"
      },
      "source": [
        "test_labels[0]"
      ],
      "execution_count": 22,
      "outputs": [
        {
          "output_type": "execute_result",
          "data": {
            "text/plain": [
              "7"
            ]
          },
          "metadata": {
            "tags": []
          },
          "execution_count": 22
        }
      ]
    },
    {
      "cell_type": "markdown",
      "metadata": {
        "id": "C2YJAyR3bdD5"
      },
      "source": [
        "## Evaluation"
      ]
    },
    {
      "cell_type": "code",
      "metadata": {
        "colab": {
          "base_uri": "https://localhost:8080/"
        },
        "id": "WjNjXpdqbryw",
        "outputId": "26b0ebc7-cfde-4ee9-ca8a-04c918e6c99c"
      },
      "source": [
        "test_loss, test_acc = model.evaluate(\n",
        "    test_images,\n",
        "    test_labels\n",
        ")"
      ],
      "execution_count": 23,
      "outputs": [
        {
          "output_type": "stream",
          "text": [
            "313/313 [==============================] - 1s 2ms/step - loss: 0.0714 - accuracy: 0.9785\n"
          ],
          "name": "stdout"
        }
      ]
    },
    {
      "cell_type": "code",
      "metadata": {
        "colab": {
          "base_uri": "https://localhost:8080/"
        },
        "id": "ECtWA8icb4NU",
        "outputId": "6ccf7fc3-50dd-4f1a-bc28-9e5be703f288"
      },
      "source": [
        "print(\"Test Accuracy: \",( test_acc * 100 )//1, \"%\")"
      ],
      "execution_count": 24,
      "outputs": [
        {
          "output_type": "stream",
          "text": [
            "Test Accuracy:  97.0 %\n"
          ],
          "name": "stdout"
        }
      ]
    }
  ]
}